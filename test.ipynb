{
 "metadata": {
  "language_info": {
   "codemirror_mode": {
    "name": "ipython",
    "version": 3
   },
   "file_extension": ".py",
   "mimetype": "text/x-python",
   "name": "python",
   "nbconvert_exporter": "python",
   "pygments_lexer": "ipython3",
   "version": "3.7.9"
  },
  "orig_nbformat": 2,
  "kernelspec": {
   "name": "python379jvsc74a57bd0f974761abf908fb6a9f457c6a23a631485246efe566291ef9aa7ebf87bee0e83",
   "display_name": "Python 3.7.9 64-bit (conda)"
  }
 },
 "nbformat": 4,
 "nbformat_minor": 2,
 "cells": [
  {
   "cell_type": "code",
   "execution_count": 16,
   "metadata": {},
   "outputs": [
    {
     "output_type": "stream",
     "name": "stdout",
     "text": [
      "kek2\ntest\n"
     ]
    }
   ],
   "source": [
    "kek = {}\n",
    "\n",
    "kek[\"kek2\"] = 10\n",
    "kek[\"test\"] = 11\n",
    "\n",
    "kek.keys()\n",
    "\n",
    "for key in kek:\n",
    "    print(key)"
   ]
  },
  {
   "cell_type": "code",
   "execution_count": 32,
   "metadata": {},
   "outputs": [],
   "source": [
    "pathName = \"\"\n",
    "\n",
    "import os\n",
    "\n",
    "#os.rename(pathName + \"test2\", pathName + \"test3\")\n",
    "os.rename(pathName + \"test3\", pathName + \"test2\")"
   ]
  }
 ]
}